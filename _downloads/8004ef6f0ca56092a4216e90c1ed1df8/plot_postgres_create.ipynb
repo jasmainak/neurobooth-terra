{
  "cells": [
    {
      "cell_type": "code",
      "execution_count": null,
      "metadata": {
        "collapsed": false
      },
      "outputs": [],
      "source": [
        "%matplotlib inline"
      ]
    },
    {
      "cell_type": "markdown",
      "metadata": {},
      "source": [
        "\n# Export from dbdesigner\n\nThis example demonstrates how to create postgres table with neurobooth-terra.\n"
      ]
    },
    {
      "cell_type": "code",
      "execution_count": null,
      "metadata": {
        "collapsed": false
      },
      "outputs": [],
      "source": [
        "from neurobooth_terra.create_psql import drop_table\nimport psycopg2\nfrom neurobooth_terra import execute, drop_table\n\n# drop all tables"
      ]
    },
    {
      "cell_type": "markdown",
      "metadata": {},
      "source": [
        "First, we will create a connection using ``psycopg2``.\n\n"
      ]
    },
    {
      "cell_type": "code",
      "execution_count": null,
      "metadata": {
        "collapsed": false
      },
      "outputs": [],
      "source": [
        "connect_str = (\"dbname='neurobooth' user='neuroboother' host='localhost' \"\n               \"password='neuroboothrocks'\")\n\nconn = psycopg2.connect(connect_str)\n\nfor table_id in ['consent', 'study', 'register', 'contact', 'clinical',\n\t\t\t\t 'subject', 'demograph', 'human_obs_log', 'observer',\n\t\t\t\t 'tech_obs_data', 'tech_obs_log', 'stimulus', 'sensor',\n\t\t\t\t 'instruction', 'human_obs_data', 'device', 'collection']:\n\tdrop_table(table_id, conn)"
      ]
    },
    {
      "cell_type": "markdown",
      "metadata": {},
      "source": [
        "Then comes our sql command to create the SQL tables. This comes from\ndbdesigner.\n6/7/2021, 17:02:05\n\n"
      ]
    },
    {
      "cell_type": "code",
      "execution_count": null,
      "metadata": {
        "collapsed": false
      },
      "outputs": [],
      "source": [
        "create_cmd = \"\"\"\nCREATE TABLE \"consent\" (\n\t\"subject_id\" VARCHAR(255) NOT NULL,\n\t\"study_id\" VARCHAR(255) NOT NULL,\n\t\"staff_id\" VARCHAR(255) NOT NULL,\n\t\"application_id\" VARCHAR(255) NOT NULL,\n\t\"site_date\" VARCHAR(255) NOT NULL,\n\tCONSTRAINT \"consent_pk\" PRIMARY KEY (\"subject_id\",\"study_id\")\n) WITH (\n  OIDS=FALSE\n);\n\n\n\nCREATE TABLE \"study\" (\n\t\"study_id\" VARCHAR(255) NOT NULL,\n\t\"IRB_protocol_number\" integer NOT NULL,\n\t\"study_title\" VARCHAR(255) NOT NULL,\n\t\"protocol_version_array\" integer NOT NULL,\n\t\"protocol_date_array\" DATE NOT NULL,\n\t\"consent_version_array\" VARCHAR(255) NOT NULL,\n\t\"consent_date_array\" DATE NOT NULL,\n\tCONSTRAINT \"study_pk\" PRIMARY KEY (\"study_id\")\n) WITH (\n  OIDS=FALSE\n);\n\n\n\nCREATE TABLE \"register\" (\n\t\"subject_id\" VARCHAR(255) NOT NULL,\n\t\"study_id\" VARCHAR(255) NOT NULL,\n\t\"application_id\" VARCHAR(255) NOT NULL,\n\t\"site_date\" VARCHAR(255) NOT NULL,\n\tCONSTRAINT \"register_pk\" PRIMARY KEY (\"subject_id\",\"study_id\")\n) WITH (\n  OIDS=FALSE\n);\n\n\n\nCREATE TABLE \"contact\" (\n\t\"subject_id\" VARCHAR(255) NOT NULL,\n\t\"study_id\" VARCHAR(255) NOT NULL,\n\t\"application_id\" VARCHAR(255) NOT NULL,\n\t\"site_date\" VARCHAR(255) NOT NULL,\n\t\"email\" VARCHAR(255) NOT NULL,\n\t\"phone\" VARCHAR(255) NOT NULL,\n\tCONSTRAINT \"contact_pk\" PRIMARY KEY (\"subject_id\",\"study_id\")\n) WITH (\n  OIDS=FALSE\n);\n\n\n\nCREATE TABLE \"clinical\" (\n\t\"subject_id\" VARCHAR(255) NOT NULL,\n\t\"study_id\" VARCHAR(255) NOT NULL,\n\t\"application_id\" VARCHAR(255) NOT NULL,\n\t\"site_date\" VARCHAR(255) NOT NULL,\n\t\"diagnosis\" VARCHAR(255) NOT NULL,\n\t\"relevant_diagnosis\" VARCHAR(255) NOT NULL,\n\t\"symptom_age_onset\" integer NOT NULL,\n\t\"handedness\" VARCHAR(255) NOT NULL,\n\t\"height\" FLOAT NOT NULL,\n\t\"weight\" FLOAT NOT NULL,\n\t\"medications\" TEXT NOT NULL,\n\t\"MRN\" integer NOT NULL,\n\tCONSTRAINT \"clinical_pk\" PRIMARY KEY (\"subject_id\",\"study_id\")\n) WITH (\n  OIDS=FALSE\n);\n\n\n\nCREATE TABLE \"subject\" (\n\t\"subject_id\" VARCHAR(255) PRIMARY KEY,\n\t\"first_name_birth\" VARCHAR(255) NOT NULL,\n\t\"middle_name_birth\" VARCHAR(255) NOT NULL,\n\t\"last_name_birth\" VARCHAR(255) NOT NULL,\n\t\"date of birth\" DATE NOT NULL,\n\t\"country of birth\" VARCHAR(255) NOT NULL,\n\t\"gender at birth\" VARCHAR(255) NOT NULL\n) WITH (\n  OIDS=FALSE\n);\n\n\n\nCREATE TABLE \"demograph\" (\n\t\"subject_id\" VARCHAR(255) NOT NULL,\n\t\"study_id\" VARCHAR(255) NOT NULL,\n\t\"application_id\" VARCHAR(255) NOT NULL,\n\t\"site_date\" VARCHAR(255) NOT NULL,\n\t\"date_of_birth\" DATE NOT NULL,\n\t\"age_study_start\" integer NOT NULL,\n\t\"symptom_age_onset\" integer NOT NULL,\n\t\"sex\" VARCHAR(255) NOT NULL,\n\t\"race\" VARCHAR(255) NOT NULL,\n\t\"ethnicity\" VARCHAR(255) NOT NULL,\n\t\"recruit_mechanism\" VARCHAR(255) NOT NULL,\n\tCONSTRAINT \"demograph_pk\" PRIMARY KEY (\"subject_id\",\"study_id\")\n) WITH (\n  OIDS=FALSE\n);\n\n\n\nCREATE TABLE \"human_obs_log\" (\n\t\"subject_id\" VARCHAR(255) NOT NULL,\n\t\"study_id\" VARCHAR(255) NOT NULL,\n\t\"observer_id\" VARCHAR(255) NOT NULL,\n\t\"human_obs_id\" VARCHAR(255) NOT NULL,\n\t\"application_id\" VARCHAR(255) NOT NULL,\n\t\"site_date\" DATE NOT NULL,\n\t\"response_array\" VARCHAR(255) NOT NULL,\n\tCONSTRAINT \"human_obs_log_pk\" PRIMARY KEY (\"subject_id\",\"study_id\")\n) WITH (\n  OIDS=FALSE\n);\n\n\n\nCREATE TABLE \"observer\" (\n\t\"observer_id\" VARCHAR(255) NOT NULL,\n\t\"subject_id\" VARCHAR(255) NOT NULL,\n\t\"first_name\" VARCHAR(255) NOT NULL,\n\t\"last_name\" VARCHAR(255) NOT NULL,\n\t\"age\" integer NOT NULL,\n\t\"sex\" VARCHAR(255) NOT NULL,\n\t\"race\" VARCHAR(255) NOT NULL,\n\t\"ethnicity\" VARCHAR(255) NOT NULL,\n\t\"relationship\" VARCHAR(255) NOT NULL,\n\tCONSTRAINT \"observer_pk\" PRIMARY KEY (\"observer_id\")\n) WITH (\n  OIDS=FALSE\n);\n\n\n\nCREATE TABLE \"tech_obs_data\" (\n\t\"tech_obs_id\" VARCHAR(255) NOT NULL,\n\t\"obs_name\" VARCHAR(255) NOT NULL,\n\t\"feature_of_interest\" VARCHAR(255) NOT NULL,\n\t\"measurement_type\" VARCHAR(255) NOT NULL,\n\t\"instruction_id\" VARCHAR(255) NOT NULL,\n\t\"demo_id\" VARCHAR(255) NOT NULL,\n\t\"stimulus_id\" VARCHAR(255) NOT NULL,\n\t\"device_id_array\" VARCHAR(255) NOT NULL,\n\t\"question_array\" VARCHAR(255) NOT NULL,\n\t\"response_array\" VARCHAR(255) NOT NULL,\n\t\"obs_property_array\" VARCHAR(255) NOT NULL,\n\t\"obs_time_period_array\" VARCHAR(255) NOT NULL,\n\t\"units_array\" VARCHAR(255) NOT NULL,\n\t\"sensor_id_array\" VARCHAR(255) NOT NULL,\n\t\"file_id_array\" VARCHAR(255) NOT NULL,\n\t\"sensor_param_array\" VARCHAR(255) NOT NULL,\n\t\"device-stim_sync_array\" VARCHAR(255) NOT NULL,\n\t\"interdevice_sync-matrix\" VARCHAR(255) NOT NULL,\n\tCONSTRAINT \"tech_obs_data_pk\" PRIMARY KEY (\"tech_obs_id\")\n) WITH (\n  OIDS=FALSE\n);\n\n\n\nCREATE TABLE \"tech_obs_log\" (\n\t\"subject_id\" VARCHAR(255) NOT NULL,\n\t\"study_id\" VARCHAR(255) NOT NULL,\n\t\"tech_obs_id\" VARCHAR(255) NOT NULL,\n\t\"staff_id\" VARCHAR(255) NOT NULL,\n\t\"application_id\" VARCHAR(255) NOT NULL,\n\t\"site_date\" DATE NOT NULL,\n\t\"event_array\" VARCHAR(255) NOT NULL,\n\t\"date_time_array\" VARCHAR(255) NOT NULL,\n\tCONSTRAINT \"tech_obs_log_pk\" PRIMARY KEY (\"subject_id\",\"study_id\")\n) WITH (\n  OIDS=FALSE\n);\n\n\n\nCREATE TABLE \"stimulus\" (\n\t\"stimulus_id\" VARCHAR(255) NOT NULL,\n\t\"stimulus_description\" VARCHAR(255) NOT NULL,\n\t\"num_iterations\" VARCHAR(255) NOT NULL,\n\t\"duration\" FLOAT NOT NULL,\n\t\"stimulus_filetype\" VARCHAR(255) NOT NULL,\n\t\"stimulus_file\" VARCHAR(255) NOT NULL,\n\tCONSTRAINT \"stimulus_pk\" PRIMARY KEY (\"stimulus_id\")\n) WITH (\n  OIDS=FALSE\n);\n\n\n\nCREATE TABLE \"sensor\" (\n\t\"sensor_id\" VARCHAR(255) NOT NULL,\n\t\"temporal_res\" FLOAT NOT NULL,\n\t\"spatial_res\" FLOAT NOT NULL,\n\tCONSTRAINT \"sensor_pk\" PRIMARY KEY (\"sensor_id\")\n) WITH (\n  OIDS=FALSE\n);\n\n\n\nCREATE TABLE \"instruction\" (\n\t\"instruction_id\" VARCHAR(255) PRIMARY KEY,\n\t\"instruction_text\" TEXT NOT NULL,\n\t\"instruction_filetype\" VARCHAR(255) NOT NULL,\n\t\"instruction_file\" VARCHAR(255) NOT NULL\n) WITH (\n  OIDS=FALSE\n);\n\n\n\nCREATE TABLE \"human_obs_data\" (\n\t\"human_obs_id\" VARCHAR(255) NOT NULL,\n\t\"obs_name\" VARCHAR(255) NOT NULL,\n\t\"feature_of_interest\" VARCHAR(255) NOT NULL,\n\t\"measurement_type\" VARCHAR(255) NOT NULL,\n\t\"question_array\" VARCHAR(255) NOT NULL,\n\t\"response_array\" VARCHAR(255) NOT NULL,\n\t\"obs_property_array\" VARCHAR(255) NOT NULL,\n\t\"obs_time_period_array\" VARCHAR(255) NOT NULL,\n\t\"units_array\" VARCHAR(255) NOT NULL,\n\tCONSTRAINT \"human_obs_data_pk\" PRIMARY KEY (\"human_obs_id\")\n) WITH (\n  OIDS=FALSE\n);\n\n\n\nCREATE TABLE \"device\" (\n\t\"device_id\" VARCHAR(255) NOT NULL,\n\t\"device_sn\" VARCHAR(255) NOT NULL,\n\t\"wearable_bool\" BOOLEAN NOT NULL,\n\t\"device_location\" VARCHAR(255) NOT NULL,\n\t\"device_name\" VARCHAR(255) NOT NULL,\n\t\"device_make\" VARCHAR(255) NOT NULL,\n\t\"device_model\" VARCHAR(255) NOT NULL,\n\t\"device_firmware\" VARCHAR(255) NOT NULL,\n\t\"sensor_id_array\" BOOLEAN NOT NULL,\n\tCONSTRAINT \"device_pk\" PRIMARY KEY (\"device_id\")\n) WITH (\n  OIDS=FALSE\n);\n\n\n\nCREATE TABLE \"collection\" (\n\t\"collection_name\" VARCHAR(255) NOT NULL,\n\t\"tech_obs_array\" VARCHAR(255),\n\t\"human_obs_array\" VARCHAR(255),\n\tCONSTRAINT \"collection_pk\" PRIMARY KEY (\"collection_name\")\n) WITH (\n  OIDS=FALSE\n);\n\n\n\nALTER TABLE \"consent\" ADD CONSTRAINT \"consent_fk0\" FOREIGN KEY (\"subject_id\") REFERENCES \"subject\"(\"subject_id\");\nALTER TABLE \"consent\" ADD CONSTRAINT \"consent_fk1\" FOREIGN KEY (\"study_id\") REFERENCES \"study\"(\"study_id\");\n\n\nALTER TABLE \"register\" ADD CONSTRAINT \"register_fk0\" FOREIGN KEY (\"subject_id\") REFERENCES \"subject\"(\"subject_id\");\nALTER TABLE \"register\" ADD CONSTRAINT \"register_fk1\" FOREIGN KEY (\"study_id\") REFERENCES \"subject\"(\"subject_id\");\n\nALTER TABLE \"contact\" ADD CONSTRAINT \"contact_fk0\" FOREIGN KEY (\"subject_id\") REFERENCES \"subject\"(\"subject_id\");\nALTER TABLE \"contact\" ADD CONSTRAINT \"contact_fk1\" FOREIGN KEY (\"study_id\") REFERENCES \"study\"(\"study_id\");\n\nALTER TABLE \"clinical\" ADD CONSTRAINT \"clinical_fk0\" FOREIGN KEY (\"subject_id\") REFERENCES \"subject\"(\"subject_id\");\nALTER TABLE \"clinical\" ADD CONSTRAINT \"clinical_fk1\" FOREIGN KEY (\"study_id\") REFERENCES \"study\"(\"study_id\");\n\n\nALTER TABLE \"demograph\" ADD CONSTRAINT \"demograph_fk0\" FOREIGN KEY (\"subject_id\") REFERENCES \"subject\"(\"subject_id\");\nALTER TABLE \"demograph\" ADD CONSTRAINT \"demograph_fk1\" FOREIGN KEY (\"study_id\") REFERENCES \"study\"(\"study_id\");\n\nALTER TABLE \"human_obs_log\" ADD CONSTRAINT \"human_obs_log_fk0\" FOREIGN KEY (\"subject_id\") REFERENCES \"subject\"(\"subject_id\");\nALTER TABLE \"human_obs_log\" ADD CONSTRAINT \"human_obs_log_fk1\" FOREIGN KEY (\"study_id\") REFERENCES \"study\"(\"study_id\");\nALTER TABLE \"human_obs_log\" ADD CONSTRAINT \"human_obs_log_fk2\" FOREIGN KEY (\"observer_id\") REFERENCES \"observer\"(\"observer_id\");\nALTER TABLE \"human_obs_log\" ADD CONSTRAINT \"human_obs_log_fk3\" FOREIGN KEY (\"human_obs_id\") REFERENCES \"human_obs_data\"(\"human_obs_id\");\n\n\nALTER TABLE \"tech_obs_data\" ADD CONSTRAINT \"tech_obs_data_fk0\" FOREIGN KEY (\"instruction_id\") REFERENCES \"instruction\"(\"instruction_id\");\nALTER TABLE \"tech_obs_data\" ADD CONSTRAINT \"tech_obs_data_fk1\" FOREIGN KEY (\"stimulus_id\") REFERENCES \"stimulus\"(\"stimulus_id\");\n\nALTER TABLE \"tech_obs_log\" ADD CONSTRAINT \"tech_obs_log_fk0\" FOREIGN KEY (\"subject_id\") REFERENCES \"subject\"(\"subject_id\");\nALTER TABLE \"tech_obs_log\" ADD CONSTRAINT \"tech_obs_log_fk1\" FOREIGN KEY (\"study_id\") REFERENCES \"study\"(\"study_id\");\nALTER TABLE \"tech_obs_log\" ADD CONSTRAINT \"tech_obs_log_fk2\" FOREIGN KEY (\"tech_obs_id\") REFERENCES \"tech_obs_data\"(\"tech_obs_id\");\n\n\n\n\n\n\nALTER TABLE \"collection\" ADD CONSTRAINT \"collection_fk0\" FOREIGN KEY (\"tech_obs_array\") REFERENCES \"tech_obs_data\"(\"tech_obs_id\");\nALTER TABLE \"collection\" ADD CONSTRAINT \"collection_fk1\" FOREIGN KEY (\"human_obs_array\") REFERENCES \"human_obs_data\"(\"human_obs_id\");\n\n\n\"\"\""
      ]
    },
    {
      "cell_type": "markdown",
      "metadata": {},
      "source": [
        "Now we create the tables.\n\n"
      ]
    },
    {
      "cell_type": "code",
      "execution_count": null,
      "metadata": {
        "collapsed": false
      },
      "outputs": [],
      "source": [
        "cursor = conn.cursor()\nexecute(conn, cursor, create_cmd)"
      ]
    },
    {
      "cell_type": "markdown",
      "metadata": {},
      "source": [
        "Don't forget to close the connection once done!\n\n"
      ]
    },
    {
      "cell_type": "code",
      "execution_count": null,
      "metadata": {
        "collapsed": false
      },
      "outputs": [],
      "source": [
        "cursor.close()\nconn.close()"
      ]
    }
  ],
  "metadata": {
    "kernelspec": {
      "display_name": "Python 3",
      "language": "python",
      "name": "python3"
    },
    "language_info": {
      "codemirror_mode": {
        "name": "ipython",
        "version": 3
      },
      "file_extension": ".py",
      "mimetype": "text/x-python",
      "name": "python",
      "nbconvert_exporter": "python",
      "pygments_lexer": "ipython3",
      "version": "3.8.10"
    }
  },
  "nbformat": 4,
  "nbformat_minor": 0
}