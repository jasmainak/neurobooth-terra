{
  "cells": [
    {
      "cell_type": "code",
      "execution_count": null,
      "metadata": {
        "collapsed": false
      },
      "outputs": [],
      "source": [
        "%matplotlib inline"
      ]
    },
    {
      "cell_type": "markdown",
      "metadata": {},
      "source": [
        "\n# Create Postgres table using Neurobooth-terra.\n\nThis example demonstrates how to create postgres table with neurobooth-terra.\n"
      ]
    },
    {
      "cell_type": "code",
      "execution_count": null,
      "metadata": {
        "collapsed": false
      },
      "outputs": [],
      "source": [
        "# Authors: Mainak Jas <mjas@harvard.mgh.edu>"
      ]
    },
    {
      "cell_type": "markdown",
      "metadata": {},
      "source": [
        "Let us first import the necessary functions.\n\n"
      ]
    },
    {
      "cell_type": "code",
      "execution_count": null,
      "metadata": {
        "collapsed": false
      },
      "outputs": [],
      "source": [
        "from neurobooth_terra import create_table, drop_table\n\nimport psycopg2\nimport pandas as pd"
      ]
    },
    {
      "cell_type": "markdown",
      "metadata": {},
      "source": [
        "Then, we will create a connection using ``psycopg2``.\n\n"
      ]
    },
    {
      "cell_type": "code",
      "execution_count": null,
      "metadata": {
        "collapsed": false
      },
      "outputs": [],
      "source": [
        "connect_str = (\"dbname='neurobooth' user='neuroboother' host='localhost' \"\n               \"password='neuroboothrocks'\")\ncsv_fname = ('/Users/mainak/Dropbox (Partners HealthCare)/neurobooth_data/'\n             'register/consent.csv')\n\nconn = psycopg2.connect(connect_str)\ncursor = conn.cursor()"
      ]
    },
    {
      "cell_type": "markdown",
      "metadata": {},
      "source": [
        "We will drop tables if they already exist\nthis is just for convenience so we can re-run this script\neven when changing some columns\n\n"
      ]
    },
    {
      "cell_type": "code",
      "execution_count": null,
      "metadata": {
        "collapsed": false
      },
      "outputs": [],
      "source": [
        "drop_table(conn, cursor, 'subject')\ndrop_table(conn, cursor, 'contact')\ndrop_table(conn, cursor, 'consent')"
      ]
    },
    {
      "cell_type": "markdown",
      "metadata": {},
      "source": [
        "Now we define the Table\n\n"
      ]
    },
    {
      "cell_type": "code",
      "execution_count": null,
      "metadata": {
        "collapsed": false
      },
      "outputs": [],
      "source": [
        "table_id = 'subject'\ntable_subject = create_table(conn, cursor, table_id,\n                             ['subject_id', 'first_name_birth', 'last_name_birth'],\n                             ['VARCHAR (255)', 'VARCHAR (255)', 'VARCHAR (255)'])"
      ]
    },
    {
      "cell_type": "markdown",
      "metadata": {},
      "source": [
        "and insert some data and retrieve the table as a dataframe\n\n"
      ]
    },
    {
      "cell_type": "code",
      "execution_count": null,
      "metadata": {
        "collapsed": false
      },
      "outputs": [],
      "source": [
        "table_subject.insert([('x5dc', 'mainak', 'jas'),\n                      ('y5d3', 'anoopum', 'gupta')])\ndf_subject = table_subject.query(f'SELECT * FROM \"{table_id}\";')"
      ]
    },
    {
      "cell_type": "markdown",
      "metadata": {},
      "source": [
        "We can create another table and relate it to the other table using\na foreign key\n\n"
      ]
    },
    {
      "cell_type": "code",
      "execution_count": null,
      "metadata": {
        "collapsed": false
      },
      "outputs": [],
      "source": [
        "table_id = 'contact'\ntable = create_table(conn, cursor, table_id,\n                     column_names=['subject_id', 'email'],\n                     dtypes=['VARCHAR (255)', 'VARCHAR (255)'],\n                     foreign_key=dict(subject_id='subject'))\ntable.insert([('x5dc',), ('y5d3',)], ['subject_id'])\ndf_contact = table.query(f'SELECT * FROM \"{table_id}\";')\nprint(df_contact)"
      ]
    },
    {
      "cell_type": "markdown",
      "metadata": {},
      "source": [
        "Finally, we can also delete rows in our table\n\n"
      ]
    },
    {
      "cell_type": "code",
      "execution_count": null,
      "metadata": {
        "collapsed": false
      },
      "outputs": [],
      "source": [
        "table.delete(condition=\"subject_id = 'x5dc'\")\ndf_contact = table.query(f'SELECT * FROM \"{table_id}\";')\nprint(df_contact)"
      ]
    },
    {
      "cell_type": "markdown",
      "metadata": {},
      "source": [
        "Don't forget to close the connection once done!\n\n"
      ]
    },
    {
      "cell_type": "code",
      "execution_count": null,
      "metadata": {
        "collapsed": false
      },
      "outputs": [],
      "source": [
        "cursor.close()\nconn.close()"
      ]
    }
  ],
  "metadata": {
    "kernelspec": {
      "display_name": "Python 3",
      "language": "python",
      "name": "python3"
    },
    "language_info": {
      "codemirror_mode": {
        "name": "ipython",
        "version": 3
      },
      "file_extension": ".py",
      "mimetype": "text/x-python",
      "name": "python",
      "nbconvert_exporter": "python",
      "pygments_lexer": "ipython3",
      "version": "3.8.10"
    }
  },
  "nbformat": 4,
  "nbformat_minor": 0
}